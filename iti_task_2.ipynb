{
 "cells": [
  {
   "cell_type": "code",
   "execution_count": 1,
   "metadata": {},
   "outputs": [
    {
     "name": "stderr",
     "output_type": "stream",
     "text": [
      "[nltk_data] Downloading package punkt to\n",
      "[nltk_data]     C:\\Users\\Lenovo\\AppData\\Roaming\\nltk_data...\n",
      "[nltk_data]   Package punkt is already up-to-date!\n",
      "[nltk_data] Downloading package averaged_perceptron_tagger to\n",
      "[nltk_data]     C:\\Users\\Lenovo\\AppData\\Roaming\\nltk_data...\n",
      "[nltk_data]   Package averaged_perceptron_tagger is already up-to-\n",
      "[nltk_data]       date!\n"
     ]
    },
    {
     "data": {
      "text/plain": [
       "True"
      ]
     },
     "execution_count": 1,
     "metadata": {},
     "output_type": "execute_result"
    }
   ],
   "source": [
    "import nltk\n",
    "nltk.download('punkt')\n",
    "nltk.download('averaged_perceptron_tagger')\n"
   ]
  },
  {
   "cell_type": "code",
   "execution_count": 2,
   "metadata": {},
   "outputs": [
    {
     "name": "stdout",
     "output_type": "stream",
     "text": [
      "I Love A Cat\n"
     ]
    }
   ],
   "source": [
    "# TASK 1\n",
    "\n",
    "sentence = 'I Love Cat'\n",
    "is_noun = lambda pos: pos[:2] == 'NN'\n",
    "tokenized = nltk.word_tokenize(sentence)\n",
    "nouns = [word for (word, pos) in nltk.pos_tag(tokenized) if is_noun(pos)]\n",
    "\n",
    "if nouns[0].lower() in \"aeiou\":\n",
    "    sentence = sentence.replace(nouns[0], 'An ' + nouns[0])\n",
    "else:\n",
    "    sentence = sentence.replace(nouns[0], 'A ' + nouns[0])\n",
    "\n",
    "print(sentence)"
   ]
  },
  {
   "cell_type": "code",
   "execution_count": 6,
   "metadata": {},
   "outputs": [
    {
     "name": "stdout",
     "output_type": "stream",
     "text": [
      "\n"
     ]
    }
   ],
   "source": [
    "# TASK 2\n",
    "\n",
    "def detector(string, x):\n",
    "    if string.startswith('if'):\n",
    "        x = x + '1'\n",
    "    elif string.startswith('while') or string.startswith('for'):\n",
    "        x = x + 'n'\n",
    "    else:\n",
    "        x = x + '1'\n",
    "    return x\n",
    "\n",
    "\n",
    "name = \"n=5 i=0 for 1 to n: X=5 i=i+1\"\n",
    "x = \"\"\n",
    "\n",
    "for word in name.split():\n",
    "    x = detector(word, x)\n",
    "\n",
    "print(x)"
   ]
  },
  {
   "cell_type": "code",
   "execution_count": 29,
   "metadata": {},
   "outputs": [
    {
     "data": {
      "text/plain": [
       "'1+1+n+n+1+1'"
      ]
     },
     "execution_count": 29,
     "metadata": {},
     "output_type": "execute_result"
    }
   ],
   "source": [
    "def detector(string, x):\n",
    "    if string.startswith('if'):\n",
    "        x = x + '1+'  \n",
    "    elif string.startswith('while') or string.startswith('for'):\n",
    "        x = x + 'n+'  \n",
    "    else:\n",
    "        x = x + '1+'  \n",
    "    return x\n",
    "\n",
    "\n",
    "name = \"n=5 i=0 for_i_in_range(1,n+1): for_j_in_range(i): X=5 i=i+1\"\n",
    "\n",
    "x = \"\"\n",
    "\n",
    "for word in name.split():\n",
    "    x = detector(word, x)\n",
    "\n",
    "x=x[:-1]\n",
    "x\n"
   ]
  },
  {
   "cell_type": "code",
   "execution_count": null,
   "metadata": {},
   "outputs": [],
   "source": []
  }
 ],
 "metadata": {
  "kernelspec": {
   "display_name": "Python 3",
   "language": "python",
   "name": "python3"
  },
  "language_info": {
   "codemirror_mode": {
    "name": "ipython",
    "version": 3
   },
   "file_extension": ".py",
   "mimetype": "text/x-python",
   "name": "python",
   "nbconvert_exporter": "python",
   "pygments_lexer": "ipython3",
   "version": "3.9.2"
  },
  "orig_nbformat": 4
 },
 "nbformat": 4,
 "nbformat_minor": 2
}
