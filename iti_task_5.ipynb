{
 "cells": [
  {
   "cell_type": "code",
   "execution_count": 1,
   "metadata": {},
   "outputs": [
    {
     "name": "stdout",
     "output_type": "stream",
     "text": [
      "Shift Schedule: [0, 0, 0, 1, 0, 0, 0, 1, 0, 0]\n",
      "Fitness: 6\n"
     ]
    }
   ],
   "source": [
    "# Hill climbing ALgorithm to solve OneMax problem\n",
    "\n",
    "import random\n",
    "\n",
    "NUM_SHIFTS = 10  \n",
    "POPULATION_SIZE = 10  \n",
    "MAX_ITERATIONS = 1000  \n",
    "MUTATION_PROBABILITY = 0.1  \n",
    "\n",
    "\n",
    "employee_availability = [\n",
    "    [1, 1, 1, 1, 1, 0, 0, 0, 0, 0],  \n",
    "    [0, 0, 0, 0, 0, 1, 1, 1, 1, 1]   \n",
    "]\n",
    "\n",
    "employee_preferences = [\n",
    "    [5, 4, 3, 2, 1, 1, 1, 1, 1, 1],  \n",
    "    [1, 1, 1, 1, 1, 2, 3, 4, 5, 5]   \n",
    "]\n",
    "\n",
    "\n",
    "def generate_population():\n",
    "    population = []\n",
    "    for _ in range(POPULATION_SIZE):\n",
    "        individual = [random.randint(0, 1) for _ in range(NUM_SHIFTS)]\n",
    "        population.append(individual)\n",
    "    return population\n",
    "\n",
    "\n",
    "def calculate_fitness(individual):\n",
    "    fitness = 0\n",
    "    for i, shift in enumerate(individual):\n",
    "        if shift == 1:\n",
    "            for employee in range(len(employee_availability)):\n",
    "                if employee_availability[employee][i] == 1:\n",
    "                    fitness += employee_preferences[employee][i]\n",
    "                    break\n",
    "    return fitness\n",
    "\n",
    "\n",
    "def mutate(individual):\n",
    "    for i in range(NUM_SHIFTS):\n",
    "        if random.random() < MUTATION_PROBABILITY:\n",
    "            individual[i] = 1 - individual[i]\n",
    "    return individual\n",
    "\n",
    "\n",
    "def hill_climbing():\n",
    "    \n",
    "    population = generate_population()\n",
    "    for _ in range(MAX_ITERATIONS):\n",
    "        current_solution = random.choice(population)\n",
    "        current_fitness = calculate_fitness(current_solution)\n",
    "\n",
    "        neighbors = [mutate(current_solution) for _ in range(POPULATION_SIZE)]\n",
    "        neighbor_fitness = [calculate_fitness(neighbor) for neighbor in neighbors]\n",
    "\n",
    "        best_neighbor_fitness = max(neighbor_fitness)\n",
    "        best_neighbor = neighbors[neighbor_fitness.index(best_neighbor_fitness)]\n",
    "\n",
    "        if best_neighbor_fitness > current_fitness:\n",
    "            current_solution = best_neighbor\n",
    "            current_fitness = best_neighbor_fitness\n",
    "\n",
    "    return current_solution\n",
    "\n",
    "\n",
    "best_shift_schedule = hill_climbing()\n",
    "print(\"Shift Schedule:\", best_shift_schedule)\n",
    "print(\"Fitness:\", calculate_fitness(best_shift_schedule))"
   ]
  },
  {
   "cell_type": "code",
   "execution_count": 3,
   "metadata": {},
   "outputs": [
    {
     "name": "stdout",
     "output_type": "stream",
     "text": [
      "{'A': 0, 'B': 2, 'C': 3, 'D': 5, 'E': 6, 'F': 8}\n"
     ]
    }
   ],
   "source": [
    "# A* algorithm to solve (TSP) problem\n",
    "\n",
    "import heapq\n",
    "\n",
    "def tsp(graph, start):\n",
    "    n = len(graph)\n",
    "    dist = {start: 0}\n",
    "    visited = set()\n",
    "    heap = [(0, start)]\n",
    "    while heap:\n",
    "        d, u = heapq.heappop(heap)\n",
    "        if u in visited:\n",
    "            continue\n",
    "        visited.add(u)\n",
    "        for v, w in graph[u].items():\n",
    "            if v not in visited:\n",
    "                alt = dist[u] + w\n",
    "                if v not in dist or alt < dist[v]:\n",
    "                    dist[v] = alt\n",
    "                    heapq.heappush(heap, (alt, v))\n",
    "    return dist\n",
    "\n",
    "\n",
    "graph = {\n",
    "    'A': {'B': 2, 'C': 3},\n",
    "    'B': {'A': 2, 'C': 1, 'D': 4},\n",
    "    'C': {'A': 3, 'B': 1, 'D': 2, 'E': 5},\n",
    "    'D': {'B': 4, 'C': 2, 'E': 1, 'F': 6},\n",
    "    'E': {'C': 5, 'D': 1, 'F': 2},\n",
    "    'F': {'D': 6, 'E': 2}\n",
    "}\n",
    "\n",
    "distancee = tsp(graph, 'A')\n",
    "print(distancee)"
   ]
  },
  {
   "cell_type": "code",
   "execution_count": null,
   "metadata": {},
   "outputs": [],
   "source": []
  }
 ],
 "metadata": {
  "kernelspec": {
   "display_name": "Python 3",
   "language": "python",
   "name": "python3"
  },
  "language_info": {
   "codemirror_mode": {
    "name": "ipython",
    "version": 3
   },
   "file_extension": ".py",
   "mimetype": "text/x-python",
   "name": "python",
   "nbconvert_exporter": "python",
   "pygments_lexer": "ipython3",
   "version": "3.9.2"
  },
  "orig_nbformat": 4
 },
 "nbformat": 4,
 "nbformat_minor": 2
}
