{
 "cells": [
  {
   "cell_type": "code",
   "execution_count": 2,
   "metadata": {},
   "outputs": [
    {
     "name": "stdout",
     "output_type": "stream",
     "text": [
      "True\n"
     ]
    }
   ],
   "source": [
    "# TEST 1\n",
    "\n",
    "def search_char(k, ch):\n",
    "  \n",
    "  if not isinstance(k, str):\n",
    "    raise TypeError(\"k must be a string.\")\n",
    "  if not isinstance(ch, str):\n",
    "    raise TypeError(\"ch must be a character.\")\n",
    "  if len(ch) != 1:\n",
    "    raise ValueError(\"ch must be a single character.\")\n",
    "\n",
    "  k = k.lower()\n",
    "  if ch in k:\n",
    "    return True\n",
    "  else:\n",
    "    return False\n",
    "  \n",
    "print(search_char(\"ahmed\",'h'))  "
   ]
  },
  {
   "cell_type": "code",
   "execution_count": 6,
   "metadata": {},
   "outputs": [
    {
     "name": "stdout",
     "output_type": "stream",
     "text": [
      "4\n"
     ]
    }
   ],
   "source": [
    "# TEST 2\n",
    "\n",
    "def linear_search(x, key):\n",
    "  if not isinstance(x, list):\n",
    "    raise TypeError(\"x must be a list.\")\n",
    "  if not isinstance(key, int):\n",
    "    raise TypeError(\"key must be an integer.\")\n",
    "  \n",
    "  index = -1\n",
    "  for i in range(len(x)):\n",
    "    if x[i] == key:\n",
    "      index = i\n",
    "      break\n",
    "  return index\n",
    "\n",
    "print( linear_search ( [1,2,3,4,5,6,8,9] , 5 ) )"
   ]
  },
  {
   "cell_type": "code",
   "execution_count": 7,
   "metadata": {},
   "outputs": [
    {
     "name": "stdout",
     "output_type": "stream",
     "text": [
      "4\n"
     ]
    }
   ],
   "source": [
    "# TEST 3\n",
    "\n",
    "def binary_search(x, key):\n",
    "  if not isinstance(x, list):\n",
    "    raise TypeError(\"x must be a list.\")\n",
    "  if not isinstance(key, int):\n",
    "    raise TypeError(\"key must be an integer.\")\n",
    "\n",
    "  left = 0\n",
    "  right = len(x) - 1\n",
    "  while left <= right:\n",
    "    mid = (left + right) // 2\n",
    "    if x[mid] == key:\n",
    "      return mid\n",
    "    elif key < x[mid]:\n",
    "      right = mid - 1\n",
    "    else:\n",
    "      left = mid + 1\n",
    "  return -1\n",
    "\n",
    "print( binary_search ( [1,2,3,4,5,6,8,9] ,5 ) )"
   ]
  },
  {
   "cell_type": "code",
   "execution_count": 3,
   "metadata": {},
   "outputs": [
    {
     "name": "stdout",
     "output_type": "stream",
     "text": [
      "Hello, ahmed. You will turn 100 years old in 2083.\n"
     ]
    }
   ],
   "source": [
    "# TEST 4\n",
    "\n",
    "def user_interface():\n",
    "  name = input(\"What is your name? \")\n",
    "  age = int(input(\"How old are you? \"))\n",
    "  \n",
    "  year = 2023 + (100 - age)\n",
    "  print(f\"Hello, {name}. You will turn 100 years old in {year}.\")\n",
    "\n",
    "user_interface()"
   ]
  },
  {
   "cell_type": "code",
   "execution_count": 5,
   "metadata": {},
   "outputs": [
    {
     "name": "stdout",
     "output_type": "stream",
     "text": [
      "['d', 'c']\n"
     ]
    }
   ],
   "source": [
    "# TEST 5\n",
    "\n",
    "def find_common_elements(list1, list2):\n",
    "  set1 = set(list1)\n",
    "  set2 = set(list2)\n",
    "  \n",
    "  intersection = set1.intersection(set2)\n",
    "  common_elements = list(intersection)\n",
    "  \n",
    "  return common_elements\n",
    "\n",
    "list1 = ['a', 'b', 'c', 'd']\n",
    "list2 = ['c', 'd', 'e', 'f']\n",
    "common_elements = find_common_elements(list1, list2)\n",
    "print(common_elements)"
   ]
  }
 ],
 "metadata": {
  "kernelspec": {
   "display_name": "Python 3",
   "language": "python",
   "name": "python3"
  },
  "language_info": {
   "codemirror_mode": {
    "name": "ipython",
    "version": 3
   },
   "file_extension": ".py",
   "mimetype": "text/x-python",
   "name": "python",
   "nbconvert_exporter": "python",
   "pygments_lexer": "ipython3",
   "version": "3.9.2"
  },
  "orig_nbformat": 4
 },
 "nbformat": 4,
 "nbformat_minor": 2
}
